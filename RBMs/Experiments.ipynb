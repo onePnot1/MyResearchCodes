{
 "cells": [
  {
   "cell_type": "markdown",
   "metadata": {},
   "source": [
    "# 受限玻尔兹曼机实验\n",
    "## 1. BernoulliRBM"
   ]
  },
  {
   "cell_type": "markdown",
   "metadata": {},
   "source": [
    "加载之前预训练好的模型， 参数与下面的设置一样"
   ]
  },
  {
   "cell_type": "code",
   "execution_count": 1,
   "metadata": {},
   "outputs": [
    {
     "data": {
      "text/plain": [
       "True"
      ]
     },
     "execution_count": 1,
     "metadata": {},
     "output_type": "execute_result"
    }
   ],
   "source": [
    "from rbms import BernoulliRBM\n",
    "import imageio\n",
    "from utils import *\n",
    "brbm = BernoulliRBM(\n",
    "    pcd=True,\n",
    "    epoch_start_decay=2,\n",
    "    epoch_stop_decay=8,\n",
    "    n_gibbs_steps=2,\n",
    "    max_epoch=10,\n",
    "    sample_h_states=False,\n",
    "    sample_v_states=True,\n",
    "    batch_size=32,\n",
    "    h_sz=256,\n",
    "    l2=0.01)\n",
    "brbm._load('./pretraineds/brbm_pcd.npz')"
   ]
  },
  {
   "cell_type": "markdown",
   "metadata": {},
   "source": [
    "实验1： 分别从各时间段采样，查看Markov Chain迁移的情况，图片生成的情况。\n",
    "1. 用随机做h0的初始化。\n",
    "2. 用测试样本作为v0的初始化。"
   ]
  },
  {
   "cell_type": "code",
   "execution_count": 2,
   "metadata": {},
   "outputs": [],
   "source": [
    "Batch_sz = 64\n",
    "X_val = shuffle_batch(mnist_test, Batch_sz)\n",
    "\n",
    "sto_path_lst = []\n",
    "val_path_lst = []\n",
    "for _step in range(20, 2000, 20):\n",
    "    samples = brbm.inf_by_stochastic(Batch_sz, _step)\n",
    "    sto_filename = './images/sto_{}.png'.format(_step)\n",
    "    sto_path_lst.append(sto_filename)\n",
    "    imsave_(sto_filename,imcombind_(np.reshape(samples, [-1, 28, 28, 1])))\n",
    "    \n",
    "    \n",
    "    samples = brbm.inf_from_valid(X_val, _step)\n",
    "    val_filename = './images/val_{}.png'.format(_step)\n",
    "    val_path_lst.append(val_filename)\n",
    "    imsave_(val_filename,imcombind_(np.reshape(samples, [-1, 28, 28, 1])))"
   ]
  },
  {
   "cell_type": "markdown",
   "metadata": {},
   "source": [
    "把生成的图片转化成gif动态图，方便查看和展示"
   ]
  },
  {
   "cell_type": "code",
   "execution_count": 3,
   "metadata": {},
   "outputs": [],
   "source": [
    "to_gif(sto_path_lst, './images/sto_pcd.gif')\n",
    "to_gif(val_path_lst, './images/val_pcd.gif')"
   ]
  },
  {
   "cell_type": "markdown",
   "metadata": {},
   "source": [
    "用随机做h0的初始化的实验结果："
   ]
  },
  {
   "cell_type": "code",
   "execution_count": 5,
   "metadata": {},
   "outputs": [
    {
     "data": {
      "text/html": [
       "<img src=\"./images/sto_pcd.gif\"/>"
      ],
      "text/plain": [
       "<IPython.core.display.Image object>"
      ]
     },
     "execution_count": 5,
     "metadata": {},
     "output_type": "execute_result"
    }
   ],
   "source": [
    "from IPython.display import Image\n",
    "Image(url='./images/sto_pcd.gif')   "
   ]
  },
  {
   "cell_type": "markdown",
   "metadata": {},
   "source": [
    "用测试样本作为v0的初始化的实验结果："
   ]
  },
  {
   "cell_type": "code",
   "execution_count": 6,
   "metadata": {},
   "outputs": [
    {
     "data": {
      "text/html": [
       "<img src=\"./images/val_pcd.gif\"/>"
      ],
      "text/plain": [
       "<IPython.core.display.Image object>"
      ]
     },
     "execution_count": 6,
     "metadata": {},
     "output_type": "execute_result"
    }
   ],
   "source": [
    "Image(url='./images/val_pcd.gif') "
   ]
  },
  {
   "cell_type": "markdown",
   "metadata": {},
   "source": [
    "### 实验总结\n",
    "1. 用随机初始化，还是用测试样本初始化，最终模型都能收敛到平稳分布，说明之前的rbm训练ok。\n",
    "2. 随着Markov_Chain的转移，模型基本能遍历各个model， 多样性很好。\n",
    "3. 若同样的配置， 把pcd换成cd算法，会失败，模型不能收敛到平稳分布。"
   ]
  }
 ],
 "metadata": {
  "kernelspec": {
   "display_name": "Python 3",
   "language": "python",
   "name": "python3"
  },
  "language_info": {
   "codemirror_mode": {
    "name": "ipython",
    "version": 3
   },
   "file_extension": ".py",
   "mimetype": "text/x-python",
   "name": "python",
   "nbconvert_exporter": "python",
   "pygments_lexer": "ipython3",
   "version": "3.6.4"
  }
 },
 "nbformat": 4,
 "nbformat_minor": 2
}
