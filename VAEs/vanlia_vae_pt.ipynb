{
 "cells": [
  {
   "cell_type": "markdown",
   "metadata": {
    "collapsed": true
   },
   "source": [
    "本实验打算实现一个最基本的vae，同时探讨以下几个问题：\n",
    "* 计算隐变量的期望与方差。\n",
    "* 把隐变量可视化。\n",
    "* 用指定 X 的隐变量 z 作为输入，查看生产的结果。\n",
    "* 用连续的隐变量作为输出，查看输出图像是否连续变化。"
   ]
  },
  {
   "cell_type": "code",
   "execution_count": 3,
   "metadata": {},
   "outputs": [],
   "source": [
    "# 引入相关包"
   ]
  },
  {
   "cell_type": "code",
   "execution_count": 16,
   "metadata": {},
   "outputs": [],
   "source": [
    "import torch\n",
    "import torch.nn as nn\n",
    "from torch.autograd import Variable\n",
    "from torchvision import datasets, transforms\n",
    "from my_plot import  my_plot\n",
    "from fashion_datasets import fashion"
   ]
  },
  {
   "cell_type": "markdown",
   "metadata": {},
   "source": [
    "一些全局变量"
   ]
  },
  {
   "cell_type": "code",
   "execution_count": 5,
   "metadata": {},
   "outputs": [],
   "source": [
    "batch_sz = 100\n",
    "dim_img = 784\n",
    "dim_z = 32\n",
    "save_dir = 'out/vanila_vae/'\n",
    "use_gpu = torch.cuda.is_available()\n"
   ]
  },
  {
   "cell_type": "markdown",
   "metadata": {},
   "source": [
    "模型"
   ]
  },
  {
   "cell_type": "code",
   "execution_count": 7,
   "metadata": {},
   "outputs": [],
   "source": [
    "class VAE(nn.Module):\n",
    "    def __init__(self):\n",
    "        super(VAE, self).__init__()\n",
    "        self.encoder_ = torch.nn.Sequential(\n",
    "            torch.nn.Linear(dim_img, 256),\n",
    "            torch.nn.ReLU(),\n",
    "            torch.nn.Linear(256,64),\n",
    "            torch.nn.Sigmoid(),\n",
    "            torch.nn.Linear(64, 2*dim_z))\n",
    "        self.decoder_ = torch.nn.Sequential(\n",
    "            torch.nn.Linear(dim_z, 64),\n",
    "            torch.nn.ReLU(),\n",
    "            torch.nn.Linear(64,256),\n",
    "            torch.nn.Softplus(),\n",
    "            torch.nn.Linear(256, dim_img),\n",
    "            torch.nn.Sigmoid())\n",
    "\n",
    "    def encoder(self, x):\n",
    "        out = self.encoder_(x)\n",
    "        return out[:, 0:dim_z], out[:, dim_z:2 * dim_z]\n",
    "\n",
    "    def decoder(self, z):\n",
    "        return self.decoder_(z)\n",
    "\n",
    "    def sample_z(self, mu, logvar):\n",
    "        std = torch.exp(logvar * 0.5)\n",
    "        eps = Variable(torch.randn(std.size()))\n",
    "        if use_gpu:\n",
    "            eps = eps.cuda()\n",
    "        return mu + std * eps\n",
    "\n",
    "\n",
    "    def forward(self, x):\n",
    "        mu, logvar = self.encoder(x)\n",
    "        z = self.sample_z(mu, logvar)\n",
    "        return self.decoder(z),mu, logvar"
   ]
  },
  {
   "cell_type": "markdown",
   "metadata": {},
   "source": [
    "训练相关对象声明"
   ]
  },
  {
   "cell_type": "code",
   "execution_count": 8,
   "metadata": {},
   "outputs": [],
   "source": [
    "model = VAE()\n",
    "if use_gpu:\n",
    "    model.cuda()\n",
    "\n",
    "bce_criterion = nn.BCELoss(size_average=False)\n",
    "solver = torch.optim.Adam(model.parameters())"
   ]
  },
  {
   "cell_type": "markdown",
   "metadata": {},
   "source": [
    "~~导入Mnist手写体数据集。~~\n",
    "导入fashion数据集"
   ]
  },
  {
   "cell_type": "code",
   "execution_count": 18,
   "metadata": {},
   "outputs": [],
   "source": [
    "# train_datasets = datasets.MNIST('../datasets/mnist', train=True, download=True,\n",
    "#                               transform=transforms.Compose([transforms.ToTensor()]))\n",
    "normalize = transforms.Normalize(mean=[x / 255.0 for x in [125.3, 123.0, 113.9]],\n",
    "                                     std=[x / 255.0 for x in [63.0, 62.1, 66.7]])\n",
    "transform = transforms.Compose([transforms.ToTensor(),\n",
    "                                    transforms.Normalize((0.1307,), (0.3081,))])\n",
    "train_datasets = fashion(root='../datasets/fashion', train=True, transform=transform, download=True)\n",
    "train_loader = torch.utils.data.DataLoader(\n",
    "        dataset=train_datasets,\n",
    "        batch_size=batch_sz, shuffle=True)"
   ]
  },
  {
   "cell_type": "markdown",
   "metadata": {},
   "source": [
    "定义损失函数"
   ]
  },
  {
   "cell_type": "code",
   "execution_count": 10,
   "metadata": {},
   "outputs": [],
   "source": [
    "def loss_f(recon_x, x, mu, logvar):\n",
    "    recon_loss = bce_criterion(recon_x, x)\n",
    "    kld_element = mu.pow(2).add_(logvar.exp()).mul_(-1).add_(1).add_(logvar)\n",
    "    kld_loss = torch.sum(kld_element).mul_(-0.5)\n",
    "\n",
    "    return recon_loss + kld_loss"
   ]
  },
  {
   "cell_type": "markdown",
   "metadata": {},
   "source": [
    "训练过程"
   ]
  },
  {
   "cell_type": "code",
   "execution_count": 12,
   "metadata": {},
   "outputs": [],
   "source": [
    "def train(epoch):\n",
    "    train_loss = 0\n",
    "    for batch_idx, (data, _) in enumerate(train_loader):\n",
    "        imgs = Variable(data.view(batch_sz, dim_img))\n",
    "        if use_gpu:\n",
    "            imgs = imgs.cuda()\n",
    "        \n",
    "        solver.zero_grad()\n",
    "        recon_x, mu, logvar = model(imgs)\n",
    "        loss = loss_f(recon_x, imgs, mu, logvar)\n",
    "        loss.backward()\n",
    "        solver.step()\n",
    "        train_loss += loss.data[0]\n",
    "\n",
    "    print('====> Epoch: {} Average loss: {:.4f}'.format(\n",
    "        epoch, train_loss / len(train_loader.dataset)))"
   ]
  },
  {
   "cell_type": "markdown",
   "metadata": {},
   "source": [
    "每个 epoch 查看下图片效果"
   ]
  },
  {
   "cell_type": "code",
   "execution_count": 13,
   "metadata": {},
   "outputs": [],
   "source": [
    "def test_epoch(e):\n",
    "    z = Variable(torch.randn(batch_sz, dim_z))\n",
    "    samples = model.decoder(z).cpu().data.numpy()\n",
    "    my_plot(save_dir, e, samples, 36)"
   ]
  },
  {
   "cell_type": "markdown",
   "metadata": {},
   "source": [
    "主函数"
   ]
  },
  {
   "cell_type": "code",
   "execution_count": 15,
   "metadata": {},
   "outputs": [
    {
     "name": "stdout",
     "output_type": "stream",
     "text": [
      "====> Epoch: 0 Average loss: 126.0476\n"
     ]
    }
   ],
   "source": [
    "\n",
    "if __name__ == '__main__':\n",
    "    for e in range(100):\n",
    "        train(e)\n",
    "        test_epoch(e)"
   ]
  },
  {
   "cell_type": "markdown",
   "metadata": {},
   "source": [
    "//todo"
   ]
  },
  {
   "cell_type": "code",
   "execution_count": null,
   "metadata": {},
   "outputs": [],
   "source": []
  }
 ],
 "metadata": {
  "kernelspec": {
   "display_name": "Python 2",
   "language": "python",
   "name": "python2"
  },
  "language_info": {
   "codemirror_mode": {
    "name": "ipython",
    "version": 2
   },
   "file_extension": ".py",
   "mimetype": "text/x-python",
   "name": "python",
   "nbconvert_exporter": "python",
   "pygments_lexer": "ipython2",
   "version": "2.7.6"
  }
 },
 "nbformat": 4,
 "nbformat_minor": 0
}
